{
 "cells": [
  {
   "cell_type": "markdown",
   "id": "2469893f-5865-497f-b2be-f1a1923b5555",
   "metadata": {},
   "source": [
    "1. Import NumPy as np"
   ]
  },
  {
   "cell_type": "code",
   "execution_count": 2,
   "id": "36018d8b-a3d2-445b-98b8-8f7ee2d3e8db",
   "metadata": {},
   "outputs": [],
   "source": [
    "import numpy as np"
   ]
  },
  {
   "cell_type": "markdown",
   "id": "e8406891-e4ae-4de5-b146-82a22ce211de",
   "metadata": {},
   "source": [
    "2. Create an array of 10 zeros"
   ]
  },
  {
   "cell_type": "code",
   "execution_count": 4,
   "id": "6d12313a-4b0f-4fba-aaad-0841efab8a74",
   "metadata": {},
   "outputs": [
    {
     "data": {
      "text/plain": [
       "array([0., 0., 0., 0., 0., 0., 0., 0., 0., 0.])"
      ]
     },
     "execution_count": 4,
     "metadata": {},
     "output_type": "execute_result"
    }
   ],
   "source": [
    "zeros_array = np.zeros(10)\n",
    "zeros_array"
   ]
  },
  {
   "cell_type": "markdown",
   "id": "33c40426-98f7-44eb-b340-4caa030217cf",
   "metadata": {},
   "source": [
    "3. Create an array of 10 ones"
   ]
  },
  {
   "cell_type": "code",
   "execution_count": 7,
   "id": "11f3b51b-0a74-4a43-b4c6-fbc005878a5e",
   "metadata": {},
   "outputs": [
    {
     "data": {
      "text/plain": [
       "array([1., 1., 1., 1., 1., 1., 1., 1., 1., 1.])"
      ]
     },
     "execution_count": 7,
     "metadata": {},
     "output_type": "execute_result"
    }
   ],
   "source": [
    "ones_array = np.ones(10)\n",
    "ones_array"
   ]
  },
  {
   "cell_type": "markdown",
   "id": "3edd9ea4-2de4-407d-8d26-ab2c52ef6b6f",
   "metadata": {},
   "source": [
    "4. Create an array of 10 fives"
   ]
  },
  {
   "cell_type": "code",
   "execution_count": 10,
   "id": "f99962d7-5fc3-4602-8cec-3da97b22c527",
   "metadata": {},
   "outputs": [
    {
     "data": {
      "text/plain": [
       "array([5., 5., 5., 5., 5., 5., 5., 5., 5., 5.])"
      ]
     },
     "execution_count": 10,
     "metadata": {},
     "output_type": "execute_result"
    }
   ],
   "source": [
    "fives_array = np.ones(10)*5\n",
    "fives_array"
   ]
  },
  {
   "cell_type": "raw",
   "id": "0b76be1f-4842-4b99-a37b-6b027eeeefcd",
   "metadata": {},
   "source": [
    "5.Create an array of the integers from 10 to 50"
   ]
  },
  {
   "cell_type": "code",
   "execution_count": 12,
   "id": "efd658c7-f3d3-40a8-a598-9100cf9d2023",
   "metadata": {},
   "outputs": [
    {
     "data": {
      "text/plain": [
       "array([10, 11, 12, 13, 14, 15, 16, 17, 18, 19, 20, 21, 22, 23, 24, 25, 26,\n",
       "       27, 28, 29, 30, 31, 32, 33, 34, 35, 36, 37, 38, 39, 40, 41, 42, 43,\n",
       "       44, 45, 46, 47, 48, 49, 50])"
      ]
     },
     "execution_count": 12,
     "metadata": {},
     "output_type": "execute_result"
    }
   ],
   "source": [
    "range_data = np.arange(10,51)\n",
    "range_data"
   ]
  },
  {
   "cell_type": "markdown",
   "id": "c4e062af-a1c7-433a-aaa8-b15ac59813c1",
   "metadata": {},
   "source": [
    "6. Create an array of all the even integers from 10 to 50"
   ]
  },
  {
   "cell_type": "code",
   "execution_count": 13,
   "id": "91d58407-55e2-4a77-97ab-3a6a9ca14aee",
   "metadata": {},
   "outputs": [
    {
     "data": {
      "text/plain": [
       "array([10, 12, 14, 16, 18, 20, 22, 24, 26, 28, 30, 32, 34, 36, 38, 40, 42,\n",
       "       44, 46, 48, 50])"
      ]
     },
     "execution_count": 13,
     "metadata": {},
     "output_type": "execute_result"
    }
   ],
   "source": [
    "even_data = np.arange(10,51,2)\n",
    "even_data"
   ]
  },
  {
   "cell_type": "markdown",
   "id": "e19928e1-2747-4da3-b304-e1734e68a7ca",
   "metadata": {},
   "source": [
    "7. Create a 3x3 matrix with values ranging from 0 to 8"
   ]
  },
  {
   "cell_type": "code",
   "execution_count": 17,
   "id": "f8649934-d45c-4ce8-8a95-848f0b0ad363",
   "metadata": {},
   "outputs": [
    {
     "data": {
      "text/plain": [
       "array([[0, 1, 2],\n",
       "       [3, 4, 5],\n",
       "       [6, 7, 8]])"
      ]
     },
     "execution_count": 17,
     "metadata": {},
     "output_type": "execute_result"
    }
   ],
   "source": [
    "mat_data = np.arange(0,9).reshape(3,3)\n",
    "mat_data"
   ]
  },
  {
   "cell_type": "markdown",
   "id": "c9df788b-9cfa-43cd-8cc6-27bf21e32780",
   "metadata": {},
   "source": [
    "8. Create a 3x3 identity matrix"
   ]
  },
  {
   "cell_type": "code",
   "execution_count": 19,
   "id": "c5983f06-644e-493e-a463-8e97ab78c3b9",
   "metadata": {},
   "outputs": [
    {
     "data": {
      "text/plain": [
       "array([[1., 0., 0.],\n",
       "       [0., 1., 0.],\n",
       "       [0., 0., 1.]])"
      ]
     },
     "execution_count": 19,
     "metadata": {},
     "output_type": "execute_result"
    }
   ],
   "source": [
    "ident_data = np.eye(3)\n",
    "ident_data"
   ]
  },
  {
   "cell_type": "markdown",
   "id": "6b538822-5479-4b40-abaa-671e7ab61926",
   "metadata": {},
   "source": [
    "9. Use NumPy to generate a random number between 0 and 1"
   ]
  },
  {
   "cell_type": "code",
   "execution_count": 21,
   "id": "3abd4273-ea86-4a63-b9b8-94cce75109ed",
   "metadata": {},
   "outputs": [
    {
     "name": "stdout",
     "output_type": "stream",
     "text": [
      "0.7117032227285066\n"
     ]
    }
   ],
   "source": [
    "rand_num = np.random.rand()\n",
    "print(rand_num)"
   ]
  },
  {
   "cell_type": "markdown",
   "id": "9c70aeb4-3dce-4353-8009-491d41968dca",
   "metadata": {},
   "source": [
    "10. Use NumPy to generate an array of 25 random numbers sampled from a standard normal distribution"
   ]
  },
  {
   "cell_type": "code",
   "execution_count": 22,
   "id": "ddef15f5-8d3a-49ba-9bd6-e2904217f1e7",
   "metadata": {},
   "outputs": [
    {
     "name": "stdout",
     "output_type": "stream",
     "text": [
      "[0.88593339 0.90633603 0.86931181 0.47395338 0.14754512 0.9440761\n",
      " 0.05455436 0.17760298 0.79439732 0.50583114 0.326447   0.5057138\n",
      " 0.7075031  0.61114914 0.96975305 0.8909492  0.88778444 0.08932633\n",
      " 0.18270287 0.02765022 0.02570357 0.96903015 0.2750242  0.80451403\n",
      " 0.54148565]\n"
     ]
    }
   ],
   "source": [
    "rand_num = np.random.rand(25)\n",
    "print(rand_num)"
   ]
  },
  {
   "cell_type": "markdown",
   "id": "e3cab0c0-dd42-45bd-99b8-57d9e94c40d4",
   "metadata": {},
   "source": [
    "11. Create the following matrix:"
   ]
  },
  {
   "cell_type": "code",
   "execution_count": 25,
   "id": "4f76a0a1-39aa-413f-b025-4490bbb6a481",
   "metadata": {},
   "outputs": [
    {
     "data": {
      "text/plain": [
       "array([[0.01, 0.02, 0.03, 0.04, 0.05, 0.06, 0.07, 0.08, 0.09, 0.1 ],\n",
       "       [0.11, 0.12, 0.13, 0.14, 0.15, 0.16, 0.17, 0.18, 0.19, 0.2 ],\n",
       "       [0.21, 0.22, 0.23, 0.24, 0.25, 0.26, 0.27, 0.28, 0.29, 0.3 ],\n",
       "       [0.31, 0.32, 0.33, 0.34, 0.35, 0.36, 0.37, 0.38, 0.39, 0.4 ],\n",
       "       [0.41, 0.42, 0.43, 0.44, 0.45, 0.46, 0.47, 0.48, 0.49, 0.5 ],\n",
       "       [0.51, 0.52, 0.53, 0.54, 0.55, 0.56, 0.57, 0.58, 0.59, 0.6 ],\n",
       "       [0.61, 0.62, 0.63, 0.64, 0.65, 0.66, 0.67, 0.68, 0.69, 0.7 ],\n",
       "       [0.71, 0.72, 0.73, 0.74, 0.75, 0.76, 0.77, 0.78, 0.79, 0.8 ],\n",
       "       [0.81, 0.82, 0.83, 0.84, 0.85, 0.86, 0.87, 0.88, 0.89, 0.9 ],\n",
       "       [0.91, 0.92, 0.93, 0.94, 0.95, 0.96, 0.97, 0.98, 0.99, 1.  ]])"
      ]
     },
     "execution_count": 25,
     "metadata": {},
     "output_type": "execute_result"
    }
   ],
   "source": [
    "matrix = np.arange(0.01, 1.01, 0.01).reshape(10,10)\n",
    "matrix"
   ]
  },
  {
   "cell_type": "markdown",
   "id": "70ef7c23-29df-4c9c-b558-c334896dd735",
   "metadata": {},
   "source": [
    "12. Create an array of 20 linearly spaced points between 0 and 1:"
   ]
  },
  {
   "cell_type": "code",
   "execution_count": 29,
   "id": "3e519c4d-24da-4402-8990-b46fe8e87f94",
   "metadata": {},
   "outputs": [
    {
     "data": {
      "text/plain": [
       "array([0.        , 0.05263158, 0.10526316, 0.15789474, 0.21052632,\n",
       "       0.26315789, 0.31578947, 0.36842105, 0.42105263, 0.47368421,\n",
       "       0.52631579, 0.57894737, 0.63157895, 0.68421053, 0.73684211,\n",
       "       0.78947368, 0.84210526, 0.89473684, 0.94736842, 1.        ])"
      ]
     },
     "execution_count": 29,
     "metadata": {},
     "output_type": "execute_result"
    }
   ],
   "source": [
    "linear_points = np.linspace(0, 1, 20)\n",
    "linear_points"
   ]
  },
  {
   "cell_type": "markdown",
   "id": "81ee6a90-1c05-4a8c-8e89-b3a61193cdc4",
   "metadata": {},
   "source": [
    "13. Numpy Indexing and Selection"
   ]
  },
  {
   "cell_type": "code",
   "execution_count": 32,
   "id": "cc466182-ef51-4e16-ae23-b4ddd3416f76",
   "metadata": {},
   "outputs": [
    {
     "data": {
      "text/plain": [
       "array([[12, 13, 14, 15],\n",
       "       [17, 18, 19, 20],\n",
       "       [22, 23, 24, 25]])"
      ]
     },
     "execution_count": 32,
     "metadata": {},
     "output_type": "execute_result"
    }
   ],
   "source": [
    "array = np.array([[12, 13, 14, 15],\n",
    "                  [17, 18, 19, 20],\n",
    "                  [22, 23, 24, 25]])\n",
    "array"
   ]
  },
  {
   "cell_type": "code",
   "execution_count": 34,
   "id": "e5786ea9-a16b-43d5-adaf-fd4dc08c6b50",
   "metadata": {},
   "outputs": [
    {
     "data": {
      "text/plain": [
       "array([ 1,  2,  3,  4,  5,  6,  7,  8,  9, 10, 11, 12, 13, 14, 15, 16, 17,\n",
       "       18, 19, 20])"
      ]
     },
     "execution_count": 34,
     "metadata": {},
     "output_type": "execute_result"
    }
   ],
   "source": [
    "array = np.arange(1, 21)\n",
    "array"
   ]
  },
  {
   "cell_type": "code",
   "execution_count": 35,
   "id": "09ab9edb-75d5-4753-970a-2f1d5ffeb0a5",
   "metadata": {},
   "outputs": [
    {
     "name": "stdout",
     "output_type": "stream",
     "text": [
      "20\n"
     ]
    }
   ],
   "source": [
    "print(20)"
   ]
  },
  {
   "cell_type": "code",
   "execution_count": 36,
   "id": "77ba1648-9e40-4858-83ee-ec196f00cf03",
   "metadata": {},
   "outputs": [
    {
     "data": {
      "text/plain": [
       "array([[ 2],\n",
       "       [ 7],\n",
       "       [12]])"
      ]
     },
     "execution_count": 36,
     "metadata": {},
     "output_type": "execute_result"
    }
   ],
   "source": [
    "output_array = np.array([[2], [7], [12]])\n",
    "output_array"
   ]
  },
  {
   "cell_type": "code",
   "execution_count": 37,
   "id": "1143f019-6fbb-466a-8ee2-bd2692cb5a17",
   "metadata": {},
   "outputs": [
    {
     "data": {
      "text/plain": [
       "array([21, 22, 23, 24, 25])"
      ]
     },
     "execution_count": 37,
     "metadata": {},
     "output_type": "execute_result"
    }
   ],
   "source": [
    "array=np.arange(21,26)\n",
    "array"
   ]
  },
  {
   "cell_type": "code",
   "execution_count": 39,
   "id": "500ba567-b090-4ca3-a646-d3a474680f1b",
   "metadata": {},
   "outputs": [
    {
     "data": {
      "text/plain": [
       "array([[16, 17, 18, 19, 20],\n",
       "       [21, 22, 23, 24, 25]])"
      ]
     },
     "execution_count": 39,
     "metadata": {},
     "output_type": "execute_result"
    }
   ],
   "source": [
    "array=np.arange(16,26).reshape(2,5)\n",
    "array"
   ]
  },
  {
   "cell_type": "markdown",
   "id": "d0414c6e-690d-4453-b0d5-069d320694a1",
   "metadata": {},
   "source": [
    "#Now do the following"
   ]
  },
  {
   "cell_type": "code",
   "execution_count": 45,
   "id": "c44eb49b-a4ca-40b2-9c90-cf77757b9414",
   "metadata": {},
   "outputs": [
    {
     "data": {
      "text/plain": [
       "325"
      ]
     },
     "execution_count": 45,
     "metadata": {},
     "output_type": "execute_result"
    }
   ],
   "source": [
    "mat = np.full((5, 5), 13)\n",
    "sum_of_values = np.sum(mat)\n",
    "sum_of_values"
   ]
  },
  {
   "cell_type": "markdown",
   "id": "948e0575-561b-4d98-b6b9-55b8173319f5",
   "metadata": {},
   "source": [
    "#Get the standard deviation of the values in mat"
   ]
  },
  {
   "cell_type": "code",
   "execution_count": 46,
   "id": "bbcd3895-6cf2-4571-bb2c-dbbb0a184a00",
   "metadata": {},
   "outputs": [
    {
     "data": {
      "text/plain": [
       "0.0"
      ]
     },
     "execution_count": 46,
     "metadata": {},
     "output_type": "execute_result"
    }
   ],
   "source": [
    "std_data = np.std(mat)\n",
    "std_data"
   ]
  },
  {
   "cell_type": "markdown",
   "id": "59e168ed-9f21-483a-ac35-c64f7f491a2b",
   "metadata": {},
   "source": [
    "#Get the sum of all the columns in mat"
   ]
  },
  {
   "cell_type": "code",
   "execution_count": 55,
   "id": "82c22cbb-1088-4da9-a777-bf880ee8a75f",
   "metadata": {},
   "outputs": [
    {
     "name": "stdout",
     "output_type": "stream",
     "text": [
      "[[0. 0. 0. 0. 0.]\n",
      " [0. 0. 0. 0. 0.]\n",
      " [0. 0. 0. 0. 0.]\n",
      " [0. 0. 0. 0. 0.]\n",
      " [0. 0. 0. 0. 0.]]\n",
      "[[11.  0.  0.  0.  0.]\n",
      " [11.  0.  0.  0.  0.]\n",
      " [11.  0.  0.  0.  0.]\n",
      " [11.  0.  0.  0.  0.]\n",
      " [11.  0.  0.  0.  0.]]\n",
      "[[11. 12.  0.  0.  0.]\n",
      " [11. 12.  0.  0.  0.]\n",
      " [11. 12.  0.  0.  0.]\n",
      " [11. 12.  0.  0.  0.]\n",
      " [11. 12.  0.  0.  0.]]\n",
      "[[11. 12. 13.  0.  0.]\n",
      " [11. 12. 13.  0.  0.]\n",
      " [11. 12. 13.  0.  0.]\n",
      " [11. 12. 13.  0.  0.]\n",
      " [11. 12. 13.  0.  0.]]\n",
      "[[11. 12. 13. 14.  0.]\n",
      " [11. 12. 13. 14.  0.]\n",
      " [11. 12. 13. 14.  0.]\n",
      " [11. 12. 13. 14.  0.]\n",
      " [11. 12. 13. 14.  0.]]\n",
      "[[11. 12. 13. 14. 15.]\n",
      " [11. 12. 13. 14. 15.]\n",
      " [11. 12. 13. 14. 15.]\n",
      " [11. 12. 13. 14. 15.]\n",
      " [11. 12. 13. 14. 15.]]\n",
      "[55. 60. 65. 70. 75.]\n"
     ]
    }
   ],
   "source": [
    "column_sums = np.array([55, 60, 65, 70, 75])\n",
    "mat = np.zeros((5, 5))\n",
    "print(mat)\n",
    "for i, col_sum in enumerate(column_sums):\n",
    "    mat[:, i] = col_sum / 5\n",
    "    print(mat)\n",
    "sum_of_columns = np.sum(mat, axis=0)\n",
    "print(sum_of_columns)"
   ]
  },
  {
   "cell_type": "code",
   "execution_count": null,
   "id": "27fcc776-3970-48ef-88c1-8a089df3fade",
   "metadata": {},
   "outputs": [],
   "source": []
  }
 ],
 "metadata": {
  "kernelspec": {
   "display_name": "Python 3 (ipykernel)",
   "language": "python",
   "name": "python3"
  },
  "language_info": {
   "codemirror_mode": {
    "name": "ipython",
    "version": 3
   },
   "file_extension": ".py",
   "mimetype": "text/x-python",
   "name": "python",
   "nbconvert_exporter": "python",
   "pygments_lexer": "ipython3",
   "version": "3.11.7"
  }
 },
 "nbformat": 4,
 "nbformat_minor": 5
}
