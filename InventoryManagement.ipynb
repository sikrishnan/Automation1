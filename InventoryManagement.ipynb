{
 "cells": [
  {
   "cell_type": "code",
   "execution_count": 1,
   "id": "468d2385-2a52-4e18-a3f9-fc493e738745",
   "metadata": {},
   "outputs": [],
   "source": [
    "import sqlite3"
   ]
  },
  {
   "cell_type": "code",
   "execution_count": 3,
   "id": "a3412d35-62bb-4bd3-bf2e-305da048dcb6",
   "metadata": {},
   "outputs": [],
   "source": [
    "conn = sqlite3.connect('inventory.db')\n",
    "cursor = conn.cursor()\n",
    "# Create Products table\n",
    "cursor.execute('''\n",
    "    CREATE TABLE IF NOT EXISTS Products (\n",
    "        id INTEGER PRIMARY KEY,\n",
    "        name TEXT NOT NULL,\n",
    "        price REAL NOT NULL,\n",
    "        quantity INTEGER NOT NULL\n",
    "    )\n",
    "''')\n",
    "conn.close()"
   ]
  },
  {
   "cell_type": "code",
   "execution_count": 12,
   "id": "a5dd659d-e164-4050-897b-76157b17d3a3",
   "metadata": {},
   "outputs": [],
   "source": [
    "#Add data into the product table\n",
    "conn = sqlite3.connect('inventory.db')\n",
    "cursor = conn.cursor()\n",
    "cursor.execute(\"Insert into Products values(001,'test1',10,50)\")\n",
    "conn.commit()\n",
    "conn.close()"
   ]
  },
  {
   "cell_type": "code",
   "execution_count": 5,
   "id": "80fb7f8b-c29e-4522-9897-c01b48281058",
   "metadata": {},
   "outputs": [],
   "source": [
    "conn = sqlite3.connect('inventory.db')\n",
    "cursor = conn.cursor()\n",
    "cursor.execute('''\n",
    "    CREATE TABLE IF NOT EXISTS Purchases (\n",
    "        id INTEGER PRIMARY KEY,\n",
    "        product_id INTEGER,\n",
    "        quantity INTEGER NOT NULL,\n",
    "        purchase_date DATE NOT NULL\n",
    "    )\n",
    "''')\n",
    "conn.close()"
   ]
  },
  {
   "cell_type": "code",
   "execution_count": 13,
   "id": "1600c410-6e13-4537-bf86-f08cfa701326",
   "metadata": {},
   "outputs": [],
   "source": [
    "#Add data into the Purchases table\n",
    "conn = sqlite3.connect('inventory.db')\n",
    "cursor = conn.cursor()\n",
    "cursor.execute(\"Insert into Purchases values(001,001,50,2024-05-20)\")\n",
    "conn.commit()\n",
    "conn.close()"
   ]
  },
  {
   "cell_type": "code",
   "execution_count": 6,
   "id": "fa4ba401-9adc-4916-9e34-4e109c3e6e06",
   "metadata": {},
   "outputs": [],
   "source": [
    "conn = sqlite3.connect('inventory.db')\n",
    "cursor = conn.cursor()\n",
    "cursor.execute('''\n",
    "        CREATE TABLE IF NOT EXISTS Sales (\n",
    "            id INTEGER PRIMARY KEY,\n",
    "            product_id INTEGER,\n",
    "            quantity INTEGER NOT NULL,\n",
    "            sale_date DATE NOT NULL\n",
    "        )\n",
    "    ''')\n",
    "conn.close()"
   ]
  },
  {
   "cell_type": "code",
   "execution_count": 14,
   "id": "8a6e1c0c-3477-41ef-803a-5710d1cbb965",
   "metadata": {},
   "outputs": [],
   "source": [
    "#Add data into the Sales table\n",
    "conn = sqlite3.connect('inventory.db')\n",
    "cursor = conn.cursor()\n",
    "cursor.execute(\"Insert into Sales values(001,001,50,2024-05-20)\")\n",
    "conn.commit()\n",
    "conn.close()"
   ]
  },
  {
   "cell_type": "code",
   "execution_count": 7,
   "id": "a5b8c331-442f-49a1-9691-9d0398fe85cf",
   "metadata": {},
   "outputs": [],
   "source": [
    "conn = sqlite3.connect('inventory.db')\n",
    "cursor = conn.cursor()\n",
    "cursor.execute('''\n",
    "    CREATE TABLE IF NOT EXISTS Users (\n",
    "        id INTEGER PRIMARY KEY,\n",
    "        username TEXT NOT NULL,\n",
    "        password TEXT NOT NULL,\n",
    "        user_type TEXT NOT NULL\n",
    "    )\n",
    "''')\n",
    "conn.close()"
   ]
  },
  {
   "cell_type": "code",
   "execution_count": 16,
   "id": "f2e22193-041d-4597-b182-ec0f4802d0eb",
   "metadata": {},
   "outputs": [],
   "source": [
    "#Add data into the Users table\n",
    "conn = sqlite3.connect('inventory.db')\n",
    "cursor = conn.cursor()\n",
    "cursor.execute(\"Insert into Users values(001,'sri','sri123','admin')\")\n",
    "cursor.execute(\"Insert into Users values(002,'sri1','sri456','admin1')\")\n",
    "conn.commit()\n",
    "conn.close()"
   ]
  },
  {
   "cell_type": "code",
   "execution_count": 18,
   "id": "455f468c-2229-4bc7-a01e-85f7302e3755",
   "metadata": {},
   "outputs": [],
   "source": [
    "#update the admin1 users to sales\n",
    "con=sqlite3.connect('inventory.db')\n",
    "cursor=con.cursor()\n",
    "cursor.execute(\"update Users set user_type='sales' where id=001\")\n",
    "con.commit()\n",
    "con.close()"
   ]
  },
  {
   "cell_type": "code",
   "execution_count": 19,
   "id": "0c243ab2-d2dd-4bde-9a6e-ae9784ad9482",
   "metadata": {},
   "outputs": [],
   "source": [
    "# Delete the User table\n",
    "conn = sqlite3.connect('inventory.db')\n",
    "cursor = conn.cursor()\n",
    "cursor.execute(\"Delete FROM Users WHERE id = 002\")\n",
    "conn.commit()\n",
    "conn.close()"
   ]
  }
 ],
 "metadata": {
  "kernelspec": {
   "display_name": "Python 3 (ipykernel)",
   "language": "python",
   "name": "python3"
  },
  "language_info": {
   "codemirror_mode": {
    "name": "ipython",
    "version": 3
   },
   "file_extension": ".py",
   "mimetype": "text/x-python",
   "name": "python",
   "nbconvert_exporter": "python",
   "pygments_lexer": "ipython3",
   "version": "3.11.7"
  }
 },
 "nbformat": 4,
 "nbformat_minor": 5
}
