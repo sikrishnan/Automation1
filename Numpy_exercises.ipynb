{
 "cells": [
  {
   "cell_type": "code",
   "execution_count": 2,
   "id": "2dc4b3ca-b4da-492d-b6a3-ce884a023519",
   "metadata": {},
   "outputs": [],
   "source": [
    "# 1) import numpy library as np:\n",
    "import numpy as np"
   ]
  },
  {
   "cell_type": "code",
   "execution_count": 4,
   "id": "b5ab4f7b-9337-4e1f-a75d-a6fa356dd9d0",
   "metadata": {},
   "outputs": [
    {
     "name": "stdout",
     "output_type": "stream",
     "text": [
      "[1 2 3 4 5]\n",
      "<class 'numpy.ndarray'>\n"
     ]
    }
   ],
   "source": [
    "#2) Convert the given list to a numpy array:\n",
    "lst = [1,2,3,4,5]\n",
    "arr =np.array(lst)\n",
    "print(arr)\n",
    "print(type(arr))"
   ]
  },
  {
   "cell_type": "code",
   "execution_count": 9,
   "id": "2f411559-3465-4e6c-81ab-bc1d42c2c01a",
   "metadata": {},
   "outputs": [
    {
     "name": "stdout",
     "output_type": "stream",
     "text": [
      "[1. 1. 1. 1. 1.]\n"
     ]
    }
   ],
   "source": [
    "#3) Create an array with five 1's:\n",
    "arr = np.ones(5)\n",
    "print(arr)"
   ]
  },
  {
   "cell_type": "code",
   "execution_count": 11,
   "id": "531ed4d6-ff49-43a6-a56a-4fdf8ffab53a",
   "metadata": {},
   "outputs": [
    {
     "name": "stdout",
     "output_type": "stream",
     "text": [
      "[[1. 1. 1.]\n",
      " [1. 1. 1.]]\n"
     ]
    }
   ],
   "source": [
    "#4)  Create an array of size 2x3 with 1's (2 rows, 3 columns) and assign it to a variable:\n",
    "import numpy as np\n",
    "arr = np.ones((2,3))\n",
    "print(arr)"
   ]
  },
  {
   "cell_type": "code",
   "execution_count": 14,
   "id": "ec22ab14-ecb3-4267-98d1-4ef5b03d4821",
   "metadata": {},
   "outputs": [
    {
     "name": "stdout",
     "output_type": "stream",
     "text": [
      "[[1. 1. 1.]\n",
      " [1. 1. 1.]]\n",
      "***************\n",
      "[[1 1 1]\n",
      " [1 1 1]]\n",
      "***************\n",
      "[[1 1 1]\n",
      " [1 1 1]]\n"
     ]
    }
   ],
   "source": [
    "#4a) Using the variable you have created, change the data type of the array to int:\n",
    "print(arr)\n",
    "print(\"*\"*15)\n",
    "conv_int = np.ones((2,3), dtype='i')\n",
    "print(conv_int)\n",
    "#or\n",
    "print(\"*\"*15)\n",
    "conv_int1 = arr.astype('i')\n",
    "print(conv_int1)\n",
    "\n"
   ]
  },
  {
   "cell_type": "code",
   "execution_count": 60,
   "id": "dee19556-bf06-474f-84ce-636b6e6b710a",
   "metadata": {},
   "outputs": [
    {
     "name": "stdout",
     "output_type": "stream",
     "text": [
      "[[4. 0. 0.]\n",
      " [0. 4. 0.]\n",
      " [0. 0. 4.]]\n",
      "###############\n",
      "[[4 0 0]\n",
      " [0 4 0]\n",
      " [0 0 4]]\n",
      "###############\n",
      "[[4 0 0]\n",
      " [0 4 0]\n",
      " [0 0 4]]\n"
     ]
    }
   ],
   "source": [
    "#5) Create an array of size 3x3 with 4's on the diagonal:\n",
    "print(arr)\n",
    "print(\"#\"*15)\n",
    "arr_3x3 = np.diag([4,4,4])\n",
    "print(arr_3x3)\n",
    "print(\"#\"*15)\n",
    "arr = np.eye(3)\n",
    "arr = arr * 4\n",
    "arr = arr.astype('i')\n",
    "print(arr)"
   ]
  },
  {
   "cell_type": "code",
   "execution_count": 18,
   "id": "2c5a3e26-8dba-46ce-9f44-b93ecb46421c",
   "metadata": {},
   "outputs": [
    {
     "name": "stdout",
     "output_type": "stream",
     "text": [
      "[0 1 2 3 4 5 6 7 8 9]\n"
     ]
    }
   ],
   "source": [
    "#6) Create an array from 0 upto 10 (10 not included):\n",
    "arr = np.arange(10)\n",
    "print(arr)"
   ]
  },
  {
   "cell_type": "code",
   "execution_count": 19,
   "id": "d3f7f3a0-a518-44eb-998e-09adbdb4b76b",
   "metadata": {},
   "outputs": [
    {
     "name": "stdout",
     "output_type": "stream",
     "text": [
      "[12 14 16 18 20 22 24]\n"
     ]
    }
   ],
   "source": [
    "#6a) Create an array in range from 12 to 26 using every second number:\n",
    "arr = np.arange(12,26,2)\n",
    "print(arr)"
   ]
  },
  {
   "cell_type": "code",
   "execution_count": 21,
   "id": "2799336a-4f25-4e9e-8708-3f7b10518d2a",
   "metadata": {},
   "outputs": [
    {
     "name": "stdout",
     "output_type": "stream",
     "text": [
      "[2.   2.25 2.5  2.75 3.   3.25 3.5  3.75 4.  ]\n",
      "$$$$$$$$$$$$$$$\n",
      "[2.         2.28571429 2.57142857 2.85714286 3.14285714 3.42857143\n",
      " 3.71428571 4.        ]\n"
     ]
    }
   ],
   "source": [
    "#7) create an array between 2 and 4 with 8 equal spaces:\n",
    "arr = np.arange(2, 4.01, 0.25)\n",
    "print(arr)\n",
    "print(\"$\"*15)\n",
    "arr1 = np.linspace(2, 4, 8)\n",
    "print(arr1)"
   ]
  },
  {
   "cell_type": "code",
   "execution_count": 25,
   "id": "2a5f4add-d1e3-4bb4-82a6-c8c46e0b1bc7",
   "metadata": {},
   "outputs": [],
   "source": [
    "#8) import random module from numpy as rd\n",
    "import numpy.random as rd"
   ]
  },
  {
   "cell_type": "code",
   "execution_count": 28,
   "id": "310fa030-9608-4d8a-8523-5f615caa6124",
   "metadata": {},
   "outputs": [
    {
     "name": "stdout",
     "output_type": "stream",
     "text": [
      "[0.51724461 0.72406174 0.58714194 0.83383378 0.69201356]\n"
     ]
    }
   ],
   "source": [
    "#9) Create a random array of 5 elements:\n",
    "random_arr = np.random.rand(5)\n",
    "print(random_arr)"
   ]
  },
  {
   "cell_type": "code",
   "execution_count": 61,
   "id": "6a82565f-3a40-4375-b524-ad06f2980a4d",
   "metadata": {},
   "outputs": [
    {
     "name": "stdout",
     "output_type": "stream",
     "text": [
      "3\n"
     ]
    }
   ],
   "source": [
    "#10) Create a random array of size 3x5 with values between 0-10:\n",
    "rand_data = np.random.randint(0,10,size=(3,5))\n",
    "print(rand_data)"
   ]
  },
  {
   "cell_type": "code",
   "execution_count": 41,
   "id": "48ca8226-2c2b-42ec-9157-cbcd16c9ba81",
   "metadata": {},
   "outputs": [
    {
     "name": "stdout",
     "output_type": "stream",
     "text": [
      "[[8 0 6 0 3]\n",
      " [9 3 5 3 4]\n",
      " [1 4 2 7 5]]\n",
      "@@@@@@@@@@@@@@@\n",
      "[[64  0 36  0  9]\n",
      " [81  9 25  9 16]\n",
      " [ 1 16  4 49 25]]\n"
     ]
    }
   ],
   "source": [
    "#11) take square of the array we have just created in no. 10:\n",
    "print(rand_data)\n",
    "print(\"@\"*15)\n",
    "print(np.square(rand_data))\n"
   ]
  },
  {
   "cell_type": "code",
   "execution_count": 46,
   "id": "9f98dadb-2e0e-4e7c-9ae2-fd4350b41d10",
   "metadata": {},
   "outputs": [
    {
     "name": "stdout",
     "output_type": "stream",
     "text": [
      "[ 0  1  2  3  4  5  6  7  8  9 10 11 12 13 14]\n",
      "$$$$$$$$$$$$$$$\n",
      "[12 13 14]\n",
      "$$$$$$$$$$$$$$$\n",
      "[99 13 14]\n"
     ]
    }
   ],
   "source": [
    "#Create a copy of the array using the last three values of the given array.\n",
    "#change the first value of the array with 99.\n",
    "arr = np.array([0, 1, 2, 3, 4, 5, 6, 7, 8, 9, 10, 11, 12, 13, 14])\n",
    "print(arr)\n",
    "print(\"$\"*15)\n",
    "last_three = arr[-3:]\n",
    "print(last_three)\n",
    "print(\"$\"*15)\n",
    "last_three[0] = 99\n",
    "print(last_three)"
   ]
  },
  {
   "cell_type": "code",
   "execution_count": 52,
   "id": "f4e5f255-aa0c-45a9-a8d7-8418dded00cb",
   "metadata": {},
   "outputs": [
    {
     "name": "stdout",
     "output_type": "stream",
     "text": [
      "[[ 0  1  2  3  4]\n",
      " [ 5  6  7  8  9]\n",
      " [10 11 12 13 14]\n",
      " [15 16 17 18 19]\n",
      " [20 21 22 23 24]]\n"
     ]
    }
   ],
   "source": [
    "#Create the below arr_2D array using the arange() function:\n",
    "arr = np.arange(25)\n",
    "new_arr = arr.reshape((5,5))\n",
    "print(new_arr)"
   ]
  },
  {
   "cell_type": "code",
   "execution_count": 58,
   "id": "cd52cc7e-1205-4b80-b295-fe54a0a3db2d",
   "metadata": {},
   "outputs": [
    {
     "name": "stdout",
     "output_type": "stream",
     "text": [
      "[[ 7  8  9]\n",
      " [12 13 14]]\n"
     ]
    }
   ],
   "source": [
    "#Get the array below using indexing:\n",
    "des_arr = new_arr[1:3, 2:]\n",
    "print(des_arr)"
   ]
  },
  {
   "cell_type": "code",
   "execution_count": null,
   "id": "5748e70b-5d6e-406b-a9ab-4852a5185c80",
   "metadata": {},
   "outputs": [],
   "source": []
  }
 ],
 "metadata": {
  "kernelspec": {
   "display_name": "Python 3 (ipykernel)",
   "language": "python",
   "name": "python3"
  },
  "language_info": {
   "codemirror_mode": {
    "name": "ipython",
    "version": 3
   },
   "file_extension": ".py",
   "mimetype": "text/x-python",
   "name": "python",
   "nbconvert_exporter": "python",
   "pygments_lexer": "ipython3",
   "version": "3.11.7"
  }
 },
 "nbformat": 4,
 "nbformat_minor": 5
}
